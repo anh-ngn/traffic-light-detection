{
 "cells": [
  {
   "cell_type": "code",
   "execution_count": 5,
   "metadata": {},
   "outputs": [],
   "source": [
    "import numpy as np\n",
    "from PIL import Image\n",
    "from sklearn.linear_model import LogisticRegression\n",
    "from sklearn.model_selection import train_test_split\n",
    "from sklearn.metrics import f1_score, confusion_matrix, classification_report\n",
    "from sklearn.preprocessing import StandardScaler\n",
    "import os\n",
    "from joblib import dump\n",
    "from sklearn import svm"
   ]
  },
  {
   "cell_type": "code",
   "execution_count": 6,
   "metadata": {},
   "outputs": [
    {
     "name": "stdout",
     "output_type": "stream",
     "text": [
      "(7684, 2040)\n",
      "['red' 'not_traffic_light' 'yellow' ... 'yellow' 'red' 'not_traffic_light']\n",
      "F1 score: 0.9876004770754688\n",
      "Confusion Matrix:\n",
      "[[561   0   2   0]\n",
      " [  3 214   6   1]\n",
      " [  1   4 631   0]\n",
      " [  0   2   0 112]]\n",
      "                   precision    recall  f1-score   support\n",
      "\n",
      "              red       0.99      1.00      0.99       563\n",
      "            green       0.97      0.96      0.96       224\n",
      "           yellow       0.99      0.99      0.99       636\n",
      "not_traffic_light       0.99      0.98      0.99       114\n",
      "\n",
      "         accuracy                           0.99      1537\n",
      "        macro avg       0.99      0.98      0.98      1537\n",
      "     weighted avg       0.99      0.99      0.99      1537\n",
      "\n"
     ]
    }
   ],
   "source": [
    "# Define the folder list\n",
    "folder_list = ['red', 'green', 'yellow', 'not_traffic_light']\n",
    "\n",
    "# Initialize lists to store the images and labels\n",
    "images = []\n",
    "labels = []\n",
    "\n",
    "# Load images from each folder in folder_list\n",
    "for folder in folder_list:\n",
    "    folder_path = \"../input/\" + folder  # Adjust the path as needed\n",
    "    files = os.listdir(folder_path)\n",
    "    for file in files:\n",
    "        image = Image.open(os.path.join(folder_path, file))\n",
    "        image = image.resize((20, 34))  # Resize the image if needed\n",
    "        image = np.array(image).flatten()  # Flatten the image\n",
    "        images.append(image)\n",
    "        labels.append(folder)\n",
    "\n",
    "# Convert lists to numpy arrays\n",
    "images = np.array(images)\n",
    "labels = np.array(labels)\n",
    "\n",
    "images = images.astype(np.float64)/255\n",
    "print(images.shape)\n",
    "\n",
    "\n",
    "# Split the dataset into training and testing sets\n",
    "X_train, X_test, y_train, y_test = train_test_split(images, labels, test_size=0.2, random_state=42)\n",
    "\n",
    "# Create and train the softmax regression model\n",
    "model = svm.SVC(kernel='linear', probability=True, gamma='auto')\n",
    "model.fit(X_train, y_train)\n",
    "\n",
    "\n",
    "# Make predictions on the test set\n",
    "y_pred = model.predict(X_test)\n",
    "print(y_pred)\n",
    "\n",
    "dump(model, 'clf.joblib')\n",
    "# Calculate F1 score\n",
    "f1 = f1_score(y_test, y_pred, average='weighted')\n",
    "print('F1 score:', f1)\n",
    "\n",
    "# # Calculate confusion matrix\n",
    "print('Confusion Matrix:')\n",
    "print(confusion_matrix(y_test, y_pred))\n",
    "print(classification_report(y_test, y_pred, target_names=folder_list))\n"
   ]
  },
  {
   "cell_type": "code",
   "execution_count": 7,
   "metadata": {},
   "outputs": [
    {
     "name": "stdout",
     "output_type": "stream",
     "text": [
      "[0.99501715 0.99991051 0.76044262 ... 0.98873269 0.99999874 0.75932214]\n"
     ]
    }
   ],
   "source": [
    "y_pred_prob = model.predict_proba(X_test)\n",
    "max_confidence_scores = np.max(y_pred_prob, axis=1)\n",
    "print(max_confidence_scores)"
   ]
  }
 ],
 "metadata": {
  "kernelspec": {
   "display_name": "base",
   "language": "python",
   "name": "python3"
  },
  "language_info": {
   "codemirror_mode": {
    "name": "ipython",
    "version": 3
   },
   "file_extension": ".py",
   "mimetype": "text/x-python",
   "name": "python",
   "nbconvert_exporter": "python",
   "pygments_lexer": "ipython3",
   "version": "3.10.9"
  },
  "orig_nbformat": 4
 },
 "nbformat": 4,
 "nbformat_minor": 2
}
